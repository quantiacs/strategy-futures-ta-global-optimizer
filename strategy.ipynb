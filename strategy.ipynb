{
 "cells": [
  {
   "cell_type": "markdown",
   "metadata": {},
   "source": [
    "# Trading System Optimization"
   ]
  },
  {
   "cell_type": "markdown",
   "metadata": {},
   "source": [
    "Backesting a trading system amounts to perform a simulation of the trading rules on historical data. All trading rules depend to some extent on a set of parameters. These parameters can be the lookback periods used for defining technical indicators or the hyperparameters of a complex machine learning model.\n",
    "\n",
    "It is very important to study the parameter dependence of the key statistical indicators, for example the Sharpe ratio. A parameter choice which maximizes the value of the Sharpe ratio when the simulation is performed on the past data is a source of backtest overfitting and leads to poor performance on live data.\n",
    "\n",
    "In this template we provide a tool for studying the parameter dependence of the statistical indicators used for assessing the quality of a trading system.\n",
    "\n",
    "We recommend optimizing your strategy in a separate notebook because a parametric scan is a time consuming task.\n",
    "\n",
    "Alternatively it is possible to mark the cells which perform scans using the `#DEBUG#` tag. When you submit your notebook, the backtesting engine which performs the evaluation on the Quantiacs server will skip these cells.\n",
    "\n",
    "You can use the optimizer also in your local environment on your machine. Here you can use more workers and take advantage of parallelization to speed up the grid scan process."
   ]
  },
  {
   "cell_type": "code",
   "execution_count": 1,
   "metadata": {},
   "outputs": [
    {
     "data": {
      "application/javascript": [
       "IPython.OutputArea.prototype._should_scroll = function(lines) { return false; }\n",
       "// disable widget scrolling\n"
      ],
      "text/plain": [
       "<IPython.core.display.Javascript object>"
      ]
     },
     "metadata": {},
     "output_type": "display_data"
    }
   ],
   "source": [
    "%%javascript\n",
    "IPython.OutputArea.prototype._should_scroll = function(lines) { return false; }\n",
    "// disable widget scrolling"
   ]
  },
  {
   "cell_type": "code",
   "execution_count": 2,
   "metadata": {},
   "outputs": [
    {
     "data": {
      "text/html": [
       "        <script type=\"text/javascript\">\n",
       "        window.PlotlyConfig = {MathJaxConfig: 'local'};\n",
       "        if (window.MathJax) {MathJax.Hub.Config({SVG: {font: \"STIX-Web\"}});}\n",
       "        if (typeof require !== 'undefined') {\n",
       "        require.undef(\"plotly\");\n",
       "        requirejs.config({\n",
       "            paths: {\n",
       "                'plotly': ['https://cdn.plot.ly/plotly-latest.min']\n",
       "            }\n",
       "        });\n",
       "        require(['plotly'], function(Plotly) {\n",
       "            window._Plotly = Plotly;\n",
       "        });\n",
       "        }\n",
       "        </script>\n",
       "        "
      ]
     },
     "metadata": {},
     "output_type": "display_data"
    }
   ],
   "source": [
    "import qnt.data as qndata\n",
    "import qnt.ta as qnta\n",
    "import qnt.output as qnout\n",
    "import qnt.stats as qns\n",
    "import qnt.log as qnlog\n",
    "import qnt.optimizer as qnop\n",
    "import qnt.backtester as qnbt\n",
    "\n",
    "import xarray as xr"
   ]
  },
  {
   "cell_type": "markdown",
   "metadata": {},
   "source": [
    "For defining the strategy we use a single-pass implementation where all data are accessed at once. This implementation is very fast and will speed up the parametric scan.\n",
    "\n",
    "> You should make sure that your strategy is not implicitly forward looking before submission, see [how to prevent forward looking](#Preventing-forward-looking).\n",
    "\n",
    "The strategy is going long only when the rate of change in the last `roc_period` trading days (in this case 10) of the linear-weighted moving average over the last `wma_period` trading days (in this case 20) is positive."
   ]
  },
  {
   "cell_type": "code",
   "execution_count": 3,
   "metadata": {},
   "outputs": [],
   "source": [
    "def single_pass_strategy(data, wma_period=20, roc_period=10):\n",
    "    wma = qnta.lwma(data.sel(field='close'), wma_period)\n",
    "    sroc = qnta.roc(wma, roc_period)\n",
    "    weights = xr.where(sroc > 0, 1, 0)\n",
    "    weights = weights / len(data.asset) # normalize weights so that sum=1, fully invested\n",
    "    with qnlog.Settings(info=False, err=False): # suppress log messages\n",
    "        weights = qnout.clean(weights, data, debug=False) # check for problems\n",
    "    return weights"
   ]
  },
  {
   "cell_type": "markdown",
   "metadata": {},
   "source": [
    "Let us first check the performance of the strategy with the chosen parameters:"
   ]
  },
  {
   "cell_type": "code",
   "execution_count": 4,
   "metadata": {},
   "outputs": [
    {
     "data": {
      "text/html": [
       "<div>\n",
       "<style scoped>\n",
       "    .dataframe tbody tr th:only-of-type {\n",
       "        vertical-align: middle;\n",
       "    }\n",
       "\n",
       "    .dataframe tbody tr th {\n",
       "        vertical-align: top;\n",
       "    }\n",
       "\n",
       "    .dataframe thead th {\n",
       "        text-align: right;\n",
       "    }\n",
       "</style>\n",
       "<table border=\"1\" class=\"dataframe\">\n",
       "  <thead>\n",
       "    <tr style=\"text-align: right;\">\n",
       "      <th>field</th>\n",
       "      <th>equity</th>\n",
       "      <th>relative_return</th>\n",
       "      <th>volatility</th>\n",
       "      <th>underwater</th>\n",
       "      <th>max_drawdown</th>\n",
       "      <th>sharpe_ratio</th>\n",
       "      <th>mean_return</th>\n",
       "      <th>bias</th>\n",
       "      <th>instruments</th>\n",
       "      <th>avg_turnover</th>\n",
       "      <th>avg_holding_time</th>\n",
       "    </tr>\n",
       "    <tr>\n",
       "      <th>time</th>\n",
       "      <th></th>\n",
       "      <th></th>\n",
       "      <th></th>\n",
       "      <th></th>\n",
       "      <th></th>\n",
       "      <th></th>\n",
       "      <th></th>\n",
       "      <th></th>\n",
       "      <th></th>\n",
       "      <th></th>\n",
       "      <th></th>\n",
       "    </tr>\n",
       "  </thead>\n",
       "  <tbody>\n",
       "    <tr>\n",
       "      <th>2021-02-26</th>\n",
       "      <td>1.123324</td>\n",
       "      <td>-0.009606</td>\n",
       "      <td>0.045465</td>\n",
       "      <td>-0.085132</td>\n",
       "      <td>-0.215389</td>\n",
       "      <td>0.164476</td>\n",
       "      <td>0.007478</td>\n",
       "      <td>1.0</td>\n",
       "      <td>75.0</td>\n",
       "      <td>0.043735</td>\n",
       "      <td>26.242790</td>\n",
       "    </tr>\n",
       "    <tr>\n",
       "      <th>2021-03-01</th>\n",
       "      <td>1.126595</td>\n",
       "      <td>0.002912</td>\n",
       "      <td>0.045465</td>\n",
       "      <td>-0.082468</td>\n",
       "      <td>-0.215389</td>\n",
       "      <td>0.168561</td>\n",
       "      <td>0.007664</td>\n",
       "      <td>1.0</td>\n",
       "      <td>75.0</td>\n",
       "      <td>0.043733</td>\n",
       "      <td>26.250796</td>\n",
       "    </tr>\n",
       "    <tr>\n",
       "      <th>2021-03-02</th>\n",
       "      <td>1.127687</td>\n",
       "      <td>0.000969</td>\n",
       "      <td>0.045460</td>\n",
       "      <td>-0.081579</td>\n",
       "      <td>-0.215389</td>\n",
       "      <td>0.169912</td>\n",
       "      <td>0.007724</td>\n",
       "      <td>1.0</td>\n",
       "      <td>75.0</td>\n",
       "      <td>0.043733</td>\n",
       "      <td>26.262064</td>\n",
       "    </tr>\n",
       "    <tr>\n",
       "      <th>2021-03-03</th>\n",
       "      <td>1.125862</td>\n",
       "      <td>-0.001619</td>\n",
       "      <td>0.045456</td>\n",
       "      <td>-0.083066</td>\n",
       "      <td>-0.215389</td>\n",
       "      <td>0.167584</td>\n",
       "      <td>0.007618</td>\n",
       "      <td>1.0</td>\n",
       "      <td>75.0</td>\n",
       "      <td>0.043724</td>\n",
       "      <td>26.262064</td>\n",
       "    </tr>\n",
       "    <tr>\n",
       "      <th>2021-03-04</th>\n",
       "      <td>1.122304</td>\n",
       "      <td>-0.003160</td>\n",
       "      <td>0.045457</td>\n",
       "      <td>-0.085963</td>\n",
       "      <td>-0.215389</td>\n",
       "      <td>0.163046</td>\n",
       "      <td>0.007412</td>\n",
       "      <td>1.0</td>\n",
       "      <td>75.0</td>\n",
       "      <td>0.043717</td>\n",
       "      <td>26.356442</td>\n",
       "    </tr>\n",
       "  </tbody>\n",
       "</table>\n",
       "</div>"
      ],
      "text/plain": [
       "field         equity  relative_return  volatility  underwater  max_drawdown  \\\n",
       "time                                                                          \n",
       "2021-02-26  1.123324        -0.009606    0.045465   -0.085132     -0.215389   \n",
       "2021-03-01  1.126595         0.002912    0.045465   -0.082468     -0.215389   \n",
       "2021-03-02  1.127687         0.000969    0.045460   -0.081579     -0.215389   \n",
       "2021-03-03  1.125862        -0.001619    0.045456   -0.083066     -0.215389   \n",
       "2021-03-04  1.122304        -0.003160    0.045457   -0.085963     -0.215389   \n",
       "\n",
       "field       sharpe_ratio  mean_return  bias  instruments  avg_turnover  \\\n",
       "time                                                                     \n",
       "2021-02-26      0.164476     0.007478   1.0         75.0      0.043735   \n",
       "2021-03-01      0.168561     0.007664   1.0         75.0      0.043733   \n",
       "2021-03-02      0.169912     0.007724   1.0         75.0      0.043733   \n",
       "2021-03-03      0.167584     0.007618   1.0         75.0      0.043724   \n",
       "2021-03-04      0.163046     0.007412   1.0         75.0      0.043717   \n",
       "\n",
       "field       avg_holding_time  \n",
       "time                          \n",
       "2021-02-26         26.242790  \n",
       "2021-03-01         26.250796  \n",
       "2021-03-02         26.262064  \n",
       "2021-03-03         26.262064  \n",
       "2021-03-04         26.356442  "
      ]
     },
     "metadata": {},
     "output_type": "display_data"
    }
   ],
   "source": [
    "#DEBUG#\n",
    "# evaluator will remove all cells with this tag before evaluation\n",
    "\n",
    "data = qndata.futures.load_data(min_date='2004-01-01') # indicators need warmup, so prepend data\n",
    "single_pass_output = single_pass_strategy(data)\n",
    "single_pass_stat = qns.calc_stat(data, single_pass_output.sel(time=slice('2006-01-01', None)))\n",
    "display(single_pass_stat.to_pandas().tail())"
   ]
  },
  {
   "cell_type": "markdown",
   "metadata": {},
   "source": [
    "A parametric scan over pre-defined ranges of `wma_period` and `roc_period` can be performed with the Quantiacs optimizer function:"
   ]
  },
  {
   "cell_type": "code",
   "execution_count": 5,
   "metadata": {},
   "outputs": [
    {
     "name": "stderr",
     "output_type": "stream",
     "text": [
      "100% (532 of 532) |######################| Elapsed Time: 0:04:51 Time:  0:04:51\n"
     ]
    },
    {
     "data": {
      "application/vnd.jupyter.widget-view+json": {
       "model_id": "4ef948d4d57a490eb4409b306e2728fd",
       "version_major": 2,
       "version_minor": 0
      },
      "text/plain": [
       "VBox(children=(HBox(children=(Dropdown(description='coord_x', options=('wma_period', 'roc_period', 'sharpe_rat…"
      ]
     },
     "metadata": {},
     "output_type": "display_data"
    },
    {
     "name": "stdout",
     "output_type": "stream",
     "text": [
      "---\n",
      "Best iteration:\n"
     ]
    },
    {
     "data": {
      "text/plain": [
       "{'args': {'wma_period': 20, 'roc_period': 80},\n",
       " 'result': {'equity': 1.3625438679785011,\n",
       "  'relative_return': -0.002916734055067205,\n",
       "  'volatility': 0.045709692043196824,\n",
       "  'underwater': -0.04049080046998221,\n",
       "  'max_drawdown': -0.15125006247921802,\n",
       "  'sharpe_ratio': 0.43744047376391276,\n",
       "  'mean_return': 0.019995269342978572,\n",
       "  'bias': 1.0,\n",
       "  'instruments': 75.0,\n",
       "  'avg_turnover': 0.016955481472089345,\n",
       "  'avg_holding_time': 84.18966408268821},\n",
       " 'weight': 0.43744047376391276,\n",
       " 'exception': None}"
      ]
     },
     "metadata": {},
     "output_type": "display_data"
    }
   ],
   "source": [
    "#DEBUG#\n",
    "# evaluator will remove all cells with this tag before evaluation\n",
    "\n",
    "data = qndata.futures.load_data(min_date='2004-01-01') # indicators need warmup, so prepend data\n",
    "\n",
    "result = qnop.optimize_strategy(\n",
    "    data,\n",
    "    single_pass_strategy,\n",
    "    qnop.full_range_args_generator(\n",
    "        wma_period=range(10, 150, 5), # min, max, step\n",
    "        roc_period=range(5, 100, 5)   # min, max, step\n",
    "    ),\n",
    "    workers=1 # you can set more workers when you run this code on your local PC to speed it up\n",
    ")\n",
    "\n",
    "qnop.build_plot(result) # interactive chart in the notebook\n",
    "\n",
    "print(\"---\")\n",
    "print(\"Best iteration:\")\n",
    "display(result['best_iteration']) # as a reference, display the iteration with the highest Sharpe ratio"
   ]
  },
  {
   "cell_type": "markdown",
   "metadata": {},
   "source": [
    "The arguments for the iteration with the highest Sharpe ratio can be later defined manually or calling `result['best_iteration']['args']` for the final strategy. Note that cells with the tag `#DEBUG#` are disabled.\n",
    "\n",
    "The final multi-pass call backtest for the optimized strategy is very simple, and it amounts to calling the last iteration of the single-pass implementation with the desired parameters:"
   ]
  },
  {
   "cell_type": "code",
   "execution_count": 6,
   "metadata": {},
   "outputs": [
    {
     "name": "stdout",
     "output_type": "stream",
     "text": [
      "Run last pass...\n",
      "Load data...\n",
      "Run pass...\n",
      "Ok.\n",
      "---\n",
      "Run first pass...\n",
      "Load data...\n",
      "Run pass...\n",
      "Ok.\n",
      "---\n",
      "Load full data...\n",
      "---\n",
      "Run iterations...\n",
      "\n"
     ]
    },
    {
     "name": "stderr",
     "output_type": "stream",
     "text": [
      "100% (3922 of 3922) |####################| Elapsed Time: 0:01:40 Time:  0:01:40\n"
     ]
    },
    {
     "name": "stdout",
     "output_type": "stream",
     "text": [
      "Merge outputs...\n",
      "Load data for cleanup and analysis...\n",
      "ffill if the current price is None...\n",
      "Check missed dates...\n",
      "Ok.\n",
      "Normalization...\n",
      "Done.\n",
      "Write output: /root/fractions.nc.gz\n",
      "---\n",
      "Analyze results...\n",
      "Check...\n",
      "Check missed dates...\n",
      "Ok.\n",
      "Check the sharpe ratio...\n",
      "Period: 2006-01-01 - 2021-03-04\n",
      "Sharpe Ratio = 0.4386617181385554\n"
     ]
    },
    {
     "name": "stderr",
     "output_type": "stream",
     "text": [
      "ERROR! The sharpe ratio is too low. 0.4386617181385554 < 1\n"
     ]
    },
    {
     "name": "stdout",
     "output_type": "stream",
     "text": [
      "Check correlation.\n",
      "\n",
      "Ok. This strategy does not correlate with other strategies.\n",
      "---\n",
      "Calc global stats...\n",
      "---\n",
      "Calc stats per asset...\n",
      "Build plots...\n",
      "---\n",
      "Select the asset (or leave blank to display the overall stats):\n"
     ]
    },
    {
     "data": {
      "application/vnd.jupyter.widget-view+json": {
       "model_id": "581eeb3b191e4ee3b938eb4d617d19d3",
       "version_major": 2,
       "version_minor": 0
      },
      "text/plain": [
       "interactive(children=(Combobox(value='', description='asset', options=('', 'F_AD', 'F_AE', 'F_AH', 'F_AX', 'F_…"
      ]
     },
     "metadata": {},
     "output_type": "display_data"
    }
   ],
   "source": [
    "best_args = dict(wma_period=20, roc_period=80) # highest Sharpe ratio iteration (not recommended, overfitting!)\n",
    "\n",
    "def best_strategy(data):\n",
    "    return single_pass_strategy(data, **best_args).isel(time=-1)\n",
    "\n",
    "weights = qnbt.backtest(\n",
    "    competition_type=\"futures\",\n",
    "    lookback_period=2 * 365,\n",
    "    start_date='2006-01-01',\n",
    "    strategy=best_strategy,\n",
    "    analyze=True,\n",
    "    build_plots=True\n",
    ")"
   ]
  },
  {
   "cell_type": "markdown",
   "metadata": {},
   "source": [
    "# The full code for the optimized strategy"
   ]
  },
  {
   "cell_type": "markdown",
   "metadata": {},
   "source": [
    "```python\n",
    "import qnt.data as qndata\n",
    "import qnt.ta as qnta\n",
    "import qnt.log as qnlog\n",
    "import qnt.backtester as qnbt\n",
    "import qnt.output as qnout\n",
    "\n",
    "import xarray as xr\n",
    "\n",
    "\n",
    "best_args = dict(wma_period=20, roc_period=80) # highest Sharpe ratio iteration (not recommended, overfit!)\n",
    "\n",
    "\n",
    "def single_pass_strategy(data, wma_period=20, roc_period=10):\n",
    "    wma = qnta.lwma(data.sel(field='close'), wma_period)\n",
    "    sroc = qnta.roc(wma, roc_period)\n",
    "    weights = xr.where(sroc > 0, 1, 0)\n",
    "    weights = weights / len(data.asset)\n",
    "    with qnlog.Settings(info=False, err=False): # suppress log messages\n",
    "        weights = qnout.clean(weights, data, debug=False) # check for problems\n",
    "    return weights\n",
    "\n",
    "\n",
    "def best_strategy(data):\n",
    "    return single_pass_strategy(data, **best_args).isel(time=-1)\n",
    "\n",
    "\n",
    "weights = qnbt.backtest(\n",
    "    competition_type=\"futures\",\n",
    "    lookback_period=2 * 365,\n",
    "    start_date='2006-01-01',\n",
    "    strategy=best_strategy,\n",
    "    analyze=True,\n",
    "    build_plots=True\n",
    ")\n",
    "```"
   ]
  },
  {
   "cell_type": "markdown",
   "metadata": {},
   "source": [
    "# Preventing forward-looking \n",
    "\n",
    "You can use this code snippet for checking forward looking. A large difference in the Sharpe ratios is a sign of forward looking for the single-pass implementation used for the parametric scan."
   ]
  },
  {
   "cell_type": "markdown",
   "metadata": {},
   "source": [
    "```python\n",
    "#DEBUG#\n",
    "# evaluator will remove all cells with this tag before evaluation\n",
    "\n",
    "# single pass\n",
    "data = qndata.futures.load_data(min_date='2004-01-01') # warmup period for indicators, prepend data\n",
    "single_pass_output = single_pass_strategy(data)\n",
    "single_pass_stat = qns.calc_stat(data, single_pass_output.sel(time=slice('2006-01-01', None)))\n",
    "\n",
    "# multi pass\n",
    "multi_pass_output = qnbt.backtest(\n",
    "    competition_type=\"futures\",\n",
    "    lookback_period=2*365,\n",
    "    start_date='2006-01-01',\n",
    "    strategy=single_pass_strategy,\n",
    "    analyze=False,\n",
    ")\n",
    "multi_pass_stat = qns.calc_stat(data, multi_pass_output.sel(time=slice('2006-01-01', None)))\n",
    "\n",
    "print('''\n",
    "---\n",
    "Compare multi-pass and single pass performance to be sure that there is no forward looking. Small differences can arise because of numerical accuracy issues and differences in the treatment of missing values.\n",
    "---\n",
    "''')\n",
    "\n",
    "print(\"Single-pass result:\")\n",
    "display(single_pass_stat.to_pandas().tail())\n",
    "\n",
    "print(\"Multi-pass result:\")\n",
    "display(multi_pass_stat.to_pandas().tail())\n",
    "```"
   ]
  }
 ],
 "metadata": {
  "@webio": {
   "lastCommId": null,
   "lastKernelId": null
  },
  "kernelspec": {
   "display_name": "Python 3",
   "language": "python",
   "name": "python3"
  },
  "language_info": {
   "codemirror_mode": {
    "name": "ipython",
    "version": 3
   },
   "file_extension": ".py",
   "mimetype": "text/x-python",
   "name": "python",
   "nbconvert_exporter": "python",
   "pygments_lexer": "ipython3",
   "version": "3.7.9"
  }
 },
 "nbformat": 4,
 "nbformat_minor": 4
}
